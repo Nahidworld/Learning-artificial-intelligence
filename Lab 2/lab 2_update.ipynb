{
 "cells": [
  {
   "cell_type": "code",
   "execution_count": 10,
   "id": "1139a5cb",
   "metadata": {},
   "outputs": [
    {
     "data": {
      "text/plain": [
       "[20]"
      ]
     },
     "execution_count": 10,
     "metadata": {},
     "output_type": "execute_result"
    }
   ],
   "source": [
    "def makeDouble(x):\n",
    "    newlist=[]\n",
    "    for i in range(len(L)):\n",
    "        newlist.append(x[i]*2)\n",
    "        return newlist\n",
    "        \n",
    "L=[10,20,30,40]\n",
    "makeDouble(L)"
   ]
  },
  {
   "cell_type": "code",
   "execution_count": null,
   "id": "ba6b7d21",
   "metadata": {},
   "outputs": [],
   "source": [
    "/*...\n",
    "Distance between two vector:\n",
    "    \n",
    "..*/\n",
    "\n",
    "L1=[2,4,6]\n",
    "L2=[5,7,9]"
   ]
  },
  {
   "cell_type": "code",
   "execution_count": 17,
   "id": "1076f0ad",
   "metadata": {},
   "outputs": [
    {
     "name": "stdout",
     "output_type": "stream",
     "text": [
      "5.196152422706632\n"
     ]
    }
   ],
   "source": [
    "import math \n",
    "def distance(l1,l2):\n",
    "    sum =0;\n",
    "    if len(l1)== len(l2):\n",
    "        for i in range(len(l1)):\n",
    "            sum = sum +(l1[i]-l2[i])**2\n",
    "        return math.sqrt(sum)\n",
    "    else:\n",
    "        return \"Not Possible\"\n",
    "L1=[2,4,6]\n",
    "L2=[5,7,9]\n",
    "print(distance(L1,L2))"
   ]
  },
  {
   "cell_type": "markdown",
   "id": "4518772b",
   "metadata": {},
   "source": [
    "Do this: multiply and addition\n",
    "L1 = [2,4,6]\n",
    "L2 = [5,6,9]\n",
    "L3 = [10,28,54] #Multifly\n",
    "L4 = [7,11,15] #Addition"
   ]
  },
  {
   "cell_type": "code",
   "execution_count": 21,
   "id": "8e120c84",
   "metadata": {},
   "outputs": [
    {
     "name": "stdout",
     "output_type": "stream",
     "text": [
      "[7, 10, 15] [7, 10, 15]\n"
     ]
    }
   ],
   "source": [
    "def myfunc(l1,l2):\n",
    "    A = []\n",
    "    M = []\n",
    "    for i in range (len(l2)):\n",
    "        A.append(l1[i]+l2[i])\n",
    "        M.append(l1[i]+l2[i])\n",
    "    return A , M\n",
    "L1 = [2,4,6]\n",
    "L2 = [5,6,9]\n",
    "\n",
    "addition, multiply = myfunc(L1,L2)\n",
    "print(addition,multiply)"
   ]
  },
  {
   "cell_type": "markdown",
   "id": "c70d1656",
   "metadata": {},
   "source": [
    "# Factorial:"
   ]
  },
  {
   "cell_type": "code",
   "execution_count": 25,
   "id": "278070c5",
   "metadata": {},
   "outputs": [
    {
     "name": "stdout",
     "output_type": "stream",
     "text": [
      "3628800\n"
     ]
    }
   ],
   "source": [
    "def fact(n):\n",
    "    if n == 0 or n==1:\n",
    "        return 1\n",
    "    else:\n",
    "        return n*fact(n-1)\n",
    "print(fact(10))\n"
   ]
  },
  {
   "cell_type": "markdown",
   "id": "8ee53b66",
   "metadata": {},
   "source": [
    "# Fibonacci:"
   ]
  },
  {
   "cell_type": "code",
   "execution_count": 27,
   "id": "d1736266",
   "metadata": {},
   "outputs": [
    {
     "name": "stdout",
     "output_type": "stream",
     "text": [
      "55\n"
     ]
    }
   ],
   "source": [
    "def fibo(n):\n",
    "    if n==0:\n",
    "        return 0\n",
    "    elif n==1:\n",
    "        return 1\n",
    "    else:\n",
    "        return fibo(n-1)+fibo(n-2)\n",
    "print(fibo(10))"
   ]
  },
  {
   "cell_type": "code",
   "execution_count": 32,
   "id": "8beb7c10",
   "metadata": {
    "scrolled": true
   },
   "outputs": [
    {
     "name": "stdout",
     "output_type": "stream",
     "text": [
      "354224848179261915075\n"
     ]
    }
   ],
   "source": [
    "#fibonacci using maemory\n",
    "def fibo1(n):\n",
    "    F=[]\n",
    "    F.append(0)\n",
    "    F.append(1)\n",
    "    for i in range(2, n+1):\n",
    "        F.append(F[i-1]+F[i-2])\n",
    "    return F[-1]\n",
    "\n",
    "print(fibo1(100))"
   ]
  },
  {
   "cell_type": "code",
   "execution_count": 48,
   "id": "f37bb888",
   "metadata": {
    "scrolled": true
   },
   "outputs": [
    {
     "name": "stdout",
     "output_type": "stream",
     "text": [
      "[-5, -4.0, -3.0, -2.0, -1.0, 0.0, 1.0, 2.0, 3.0, 4.0, 5]\n"
     ]
    }
   ],
   "source": [
    "#linespace\n",
    "def linespace(lower,upper,n):\n",
    "    a=[]\n",
    "    a.append(lower)\n",
    "    h=(upper-lower)/n\n",
    "    for i in range (1,n):\n",
    "        a.append(a[i-1]+h)\n",
    "    a.append(upper)\n",
    "    return a\n",
    "\n",
    "print(linespace(-5,5,10))\n",
    "    "
   ]
  },
  {
   "cell_type": "code",
   "execution_count": 49,
   "id": "d273403b",
   "metadata": {},
   "outputs": [
    {
     "name": "stdout",
     "output_type": "stream",
     "text": [
      "[-5, -4.0, -3.0, -2.0, -1.0, 0.0, 1.0, 2.0, 3.0, 4.0, 5]\n"
     ]
    }
   ],
   "source": [
    "def linespace(lower,upper,n):\n",
    "    a=[]\n",
    "    a.append(lower)\n",
    "    h=(upper-lower)/n\n",
    "    for i in range (1,n):\n",
    "        a.append(a[i-1]+h)\n",
    "    a.append(upper)\n",
    "    return a\n",
    "#f(X) = x^2\n",
    "def f(listx):\n",
    "    ylist=[]\n",
    "    for i in range(len(listx)):\n",
    "        ylsit.append(listx[i]**2)\n",
    "    return ylist\n",
    "\n",
    "\n",
    "print(linespace(-5,5,10))\n"
   ]
  },
  {
   "cell_type": "markdown",
   "id": "2a2e2047",
   "metadata": {},
   "source": [
    "# Sigmoid Funciton : f(x) = a/(1+e^-x)"
   ]
  },
  {
   "cell_type": "code",
   "execution_count": 23,
   "id": "01fc17de",
   "metadata": {},
   "outputs": [
    {
     "name": "stdout",
     "output_type": "stream",
     "text": [
      "0.6224593312018546\n",
      "0.8807970779778823\n",
      "0.5\n",
      "0.9933071490757153\n",
      "0.9975273768433653\n",
      "0.6224593312018546\n"
     ]
    }
   ],
   "source": [
    "#Sigmoid Funciton:  f(x) = a/(1+e^-x)\n",
    "\n",
    "import math\n",
    "def sigmoid(x):\n",
    "    return 1/(1+math.exp(-x))\n",
    "\n",
    "arr =[.5,2,0,5,6,.5]\n",
    "for i in range(len(arr)):\n",
    "    print(sigmoid(arr[i]))"
   ]
  },
  {
   "cell_type": "code",
   "execution_count": null,
   "id": "f69dadb9",
   "metadata": {},
   "outputs": [],
   "source": []
  }
 ],
 "metadata": {
  "kernelspec": {
   "display_name": "Python 3 (ipykernel)",
   "language": "python",
   "name": "python3"
  },
  "language_info": {
   "codemirror_mode": {
    "name": "ipython",
    "version": 3
   },
   "file_extension": ".py",
   "mimetype": "text/x-python",
   "name": "python",
   "nbconvert_exporter": "python",
   "pygments_lexer": "ipython3",
   "version": "3.11.5"
  }
 },
 "nbformat": 4,
 "nbformat_minor": 5
}
