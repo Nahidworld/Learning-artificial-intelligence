{
 "cells": [
  {
   "cell_type": "markdown",
   "metadata": {},
   "source": [
    "# Graph"
   ]
  },
  {
   "cell_type": "markdown",
   "metadata": {
    "vscode": {
     "languageId": "plaintext"
    }
   },
   "source": [
    "#1.1 Undirected Graph representation using Adjacent matrix"
   ]
  },
  {
   "cell_type": "code",
   "execution_count": 2,
   "metadata": {},
   "outputs": [
    {
     "name": "stdout",
     "output_type": "stream",
     "text": [
      "[0, 1, 0, 1, 0, 0, 0, 0, 1]\n",
      "[1, 0, 0, 0, 0, 0, 0, 1, 0]\n",
      "[0, 0, 0, 1, 0, 1, 0, 0, 0]\n",
      "[1, 0, 1, 0, 1, 0, 0, 1, 0]\n",
      "[0, 0, 0, 1, 0, 0, 0, 0, 1]\n",
      "[0, 0, 1, 0, 0, 0, 1, 0, 0]\n",
      "[0, 0, 0, 0, 0, 1, 0, 0, 0]\n",
      "[0, 1, 0, 1, 0, 0, 0, 0, 0]\n",
      "[1, 0, 0, 0, 1, 0, 0, 0, 0]\n"
     ]
    }
   ],
   "source": [
    "# Read File:\n",
    "f=open(\"graph.txt\")\n",
    "vertex_and_edges=f.readline()\n",
    "vertex = int(vertex_and_edges.split()[0])\n",
    "edges= int(vertex_and_edges.split()[1])\n",
    "\n",
    "# Create empty Matrix\n",
    "graph=[]\n",
    "for i in range(vertex):\n",
    "    row=[0]*vertex\n",
    "    graph.append(row)\n",
    "\n",
    "# populate graph data in matrix\n",
    "for line in f.readlines():\n",
    "    u= int(line.split()[0])\n",
    "    v= int(line.split()[1])\n",
    "    graph[u][v]=1\n",
    "    graph[v][u]=1\n",
    "\n",
    "for row in graph:\n",
    "    print(row)\n"
   ]
  },
  {
   "cell_type": "markdown",
   "metadata": {},
   "source": [
    "#1.2 Undirected graph representation using List"
   ]
  },
  {
   "cell_type": "code",
   "execution_count": 3,
   "metadata": {},
   "outputs": [
    {
     "name": "stdout",
     "output_type": "stream",
     "text": [
      "9\n",
      "{0: [], 1: [], 2: [], 3: [], 4: [], 5: [], 6: [], 7: [], 8: []}\n",
      "{0: [1, 3, 8], 1: [0, 7], 2: [3, 5], 3: [0, 2, 7, 4], 4: [3, 8], 5: [2, 6], 6: [5], 7: [1, 3], 8: [0, 4]}\n"
     ]
    }
   ],
   "source": [
    "#raed file\n",
    "f=open(\"graph.txt\")\n",
    "vertex_and_edges=f.readline()\n",
    "vertex = int(vertex_and_edges.split()[0])\n",
    "edges= int(vertex_and_edges.split()[1])\n",
    "print(vertex)\n",
    "\n",
    "#create empty List\n",
    "List={}\n",
    "for i in range(vertex):\n",
    "    List[i]=[]\n",
    "print(List)\n",
    "\n",
    "#populate graph data in list\n",
    "for line in f.readlines():\n",
    "    v = int(line.split()[0])\n",
    "    u = int(line.split()[1])\n",
    "    List[u].append(v) \n",
    "    List[v].append(u)\n",
    "print(List)"
   ]
  },
  {
   "cell_type": "markdown",
   "metadata": {},
   "source": [
    "#2.1 Directed Graph using Adjacent matrix"
   ]
  },
  {
   "cell_type": "code",
   "execution_count": 10,
   "metadata": {},
   "outputs": [
    {
     "name": "stdout",
     "output_type": "stream",
     "text": [
      "Vertex is 6\n",
      "[0, 1, 0, 0, 0, 1]\n",
      "[0, 0, 1, 0, 0, 1]\n",
      "[0, 0, 0, 1, 0, 0]\n",
      "[1, 1, 0, 0, 0, 0]\n",
      "[0, 0, 0, 1, 0, 0]\n",
      "[0, 0, 0, 0, 1, 0]\n"
     ]
    }
   ],
   "source": [
    "#read file\n",
    "f = open(\"directed_graph.txt\")\n",
    "vertex_and_edges=f.readline()\n",
    "vertex = int(vertex_and_edges.split()[0])\n",
    "edges = int(vertex_and_edges.split()[1])\n",
    "print('Vertex is', vertex)\n",
    "\n",
    "#create empty matrix\n",
    "graph=[]\n",
    "for i in range(vertex):\n",
    "    row=[0]*vertex\n",
    "    graph.append(row)\n",
    "\n",
    "#populate graph data in matrix\n",
    "for line in f.readlines():\n",
    "    u= int(line.split()[0])\n",
    "    v= int(line.split()[1])\n",
    "    graph[u][v]=1\n",
    "    #graph[v][u]=1\n",
    "\n",
    "for row in graph:\n",
    "    print(row)"
   ]
  },
  {
   "cell_type": "markdown",
   "metadata": {},
   "source": [
    "#2.2 Directed Graph using Adjacency List"
   ]
  },
  {
   "cell_type": "code",
   "execution_count": 12,
   "metadata": {},
   "outputs": [
    {
     "name": "stdout",
     "output_type": "stream",
     "text": [
      "Vertex is 6\n",
      "{0: [], 1: [], 2: [], 3: [], 4: [], 5: []}\n",
      "{0: [3], 1: [0, 3], 2: [1], 3: [2, 4], 4: [5], 5: [0, 1]}\n"
     ]
    }
   ],
   "source": [
    "#raed file\n",
    "f=open(\"directed_graph.txt\")\n",
    "vertex_and_edges=f.readline()\n",
    "vertex = int(vertex_and_edges.split()[0])\n",
    "edges= int(vertex_and_edges.split()[1])\n",
    "print('Vertex is', vertex)\n",
    "\n",
    "#create empty List\n",
    "List={}\n",
    "for i in range(vertex):\n",
    "    List[i]=[]\n",
    "print(List)\n",
    "\n",
    "#populate graph data in list\n",
    "for line in f.readlines():\n",
    "    v = int(line.split()[0])\n",
    "    u = int(line.split()[1])\n",
    "    List[u].append(v) \n",
    "    #List[v].append(u)\n",
    "print(List)"
   ]
  },
  {
   "cell_type": "markdown",
   "metadata": {},
   "source": [
    "#3.Adjacency, Indegree, and Outdegree of vertices in a directed graph represented by an adjacency list"
   ]
  },
  {
   "cell_type": "code",
   "execution_count": 1,
   "metadata": {},
   "outputs": [
    {
     "name": "stdout",
     "output_type": "stream",
     "text": [
      "{0: [], 1: [], 2: [], 3: [], 4: [], 5: []}\n",
      "{0: [3], 1: [0, 3], 2: [1], 3: [2, 4], 4: [5], 5: [0, 1]}\n",
      "[3]\n",
      "1\n",
      "1\n"
     ]
    }
   ],
   "source": [
    "def adjacent(u,Li):\n",
    "    return Li[u]\n",
    "    \n",
    "def outdegree(Li,u):\n",
    "    return len(Li[u])\n",
    "\n",
    "def indegree(Li,u):\n",
    "    c = 0\n",
    "    for i in range (len(Li)):\n",
    "        for j in range(len(Li[i])):\n",
    "            if Li[i][j]==u:\n",
    "                c= c+1\n",
    "    return c\n",
    "\n",
    "#read file\n",
    "f=open(\"directed_graph.txt\")\n",
    "vertex_and_edges=f.readline()\n",
    "vertex = int(vertex_and_edges.split()[0])\n",
    "edges= int(vertex_and_edges.split()[1])\n",
    "\n",
    "#create empty List\n",
    "List={}\n",
    "for i in range(vertex):\n",
    "    List[i]=[]\n",
    "print(List)\n",
    "\n",
    "#populate graph data in list\n",
    "for line in f.readlines():\n",
    "    v = int(line.split()[0])\n",
    "    u = int(line.split()[1])\n",
    "    List[u].append(v) \n",
    "    #List[v].append(u)\n",
    "print(List)\n",
    "\n",
    "adj = adjacent(0,List)\n",
    "print(adj)\n",
    "indeg = indegree(List,4)\n",
    "print(indeg)\n",
    "outdeg = outdegree(List,4)\n",
    "print(outdeg)"
   ]
  }
 ],
 "metadata": {
  "kernelspec": {
   "display_name": "Python 3",
   "language": "python",
   "name": "python3"
  },
  "language_info": {
   "codemirror_mode": {
    "name": "ipython",
    "version": 3
   },
   "file_extension": ".py",
   "mimetype": "text/x-python",
   "name": "python",
   "nbconvert_exporter": "python",
   "pygments_lexer": "ipython3",
   "version": "3.12.2"
  }
 },
 "nbformat": 4,
 "nbformat_minor": 2
}
